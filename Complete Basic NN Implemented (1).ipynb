{
 "cells": [
  {
   "cell_type": "code",
   "execution_count": 10,
   "metadata": {},
   "outputs": [],
   "source": [
    "#1. Reproduce the complete workbook over colab and give screen shot of that before class end (3:15)\n",
    "#2. Try predicting \"D\"\n",
    "\n",
    "\n",
    "\n",
    "#Input Data\n",
    "# A \n",
    "a =[0, 0, 1, 1, 0, 0, \n",
    "0, 1, 0, 0, 1, 0, \n",
    "1, 1, 1, 1, 1, 1, \n",
    "1, 0, 0, 0, 0, 1, \n",
    "1, 0, 0, 0, 0, 1] \n",
    "# B \n",
    "b =[0, 1, 1, 1, 1, 0, \n",
    "0, 1, 0, 0, 1, 0, \n",
    "0, 1, 1, 1, 1, 0, \n",
    "0, 1, 0, 0, 1, 0, \n",
    "0, 1, 1, 1, 1, 0] \n",
    "# C \n",
    "c =[0, 1, 1, 1, 1, 0, \n",
    "    0, 1, 0, 0, 0, 0, \n",
    "    0, 1, 0, 0, 0, 0, \n",
    "    0, 1, 0, 0, 0, 0,  \n",
    "    0, 1, 1, 1, 1, 0] \n",
    "\n",
    "# d = [] 5 x 6\n",
    "\n",
    "# Creating labels \n",
    "y =[[1, 0, 0], \n",
    "[0, 1, 0], \n",
    "[0, 0, 1]] \n"
   ]
  },
  {
   "cell_type": "code",
   "execution_count": 11,
   "metadata": {},
   "outputs": [
    {
     "data": {
      "image/png": "[encoded data removed]",
      "text/plain": [
       "<Figure size 432x288 with 1 Axes>"
      ]
     },
     "metadata": {
      "needs_background": "light"
     },
     "output_type": "display_data"
    }
   ],
   "source": [
    "#Checking & Visualization\n",
    "import numpy as np \n",
    "import matplotlib.pyplot as plt \n",
    "# visualizing the data, ploting A. \n",
    "plt.imshow(np.array(a).reshape(5, 6)) \n",
    "plt.show() \n"
   ]
  },
  {
   "cell_type": "code",
   "execution_count": 12,
   "metadata": {},
   "outputs": [
    {
     "name": "stdout",
     "output_type": "stream",
     "text": [
      "[array([[0, 0, 1, 1, 0, 0, 0, 1, 0, 0, 1, 0, 1, 1, 1, 1, 1, 1, 1, 0, 0, 0,\n",
      "        0, 1, 1, 0, 0, 0, 0, 1]]), array([[0, 1, 1, 1, 1, 0, 0, 1, 0, 0, 1, 0, 0, 1, 1, 1, 1, 0, 0, 1, 0, 0,\n",
      "        1, 0, 0, 1, 1, 1, 1, 0]]), array([[0, 1, 1, 1, 1, 0, 0, 1, 0, 0, 0, 0, 0, 1, 0, 0, 0, 0, 0, 1, 0, 0,\n",
      "        0, 0, 0, 1, 1, 1, 1, 0]])] \n",
      "\n",
      " [[1 0 0]\n",
      " [0 1 0]\n",
      " [0 0 1]]\n"
     ]
    }
   ],
   "source": [
    "# converting data and labels into numpy array \n",
    "\n",
    "\"\"\" \n",
    "Convert the matrix of 0 and 1 into one hot vector \n",
    "so that we can directly feed it to the neural network, \n",
    "these vectors are then stored in a list x. \n",
    "\"\"\"\n",
    "\n",
    "x =[np.array(a).reshape(1, 30), np.array(b).reshape(1, 30), np.array(c).reshape(1, 30)] \n",
    "\n",
    "\n",
    "# Labels are also converted into NumPy array \n",
    "y = np.array(y) \n",
    "\n",
    "\n",
    "print(x, \"\\n\\n\", y)\n"
   ]
  },
  {
   "cell_type": "code",
   "execution_count": 13,
   "metadata": {},
   "outputs": [],
   "source": [
    "\n",
    "\n",
    "\n",
    "# def testmycode:\n",
    "#     serial block of code:\n",
    "        \n",
    "        \n",
    "        \n",
    "        \n",
    "        \n",
    "#         ////\n",
    "#     parallel block of code:\n",
    "        \n",
    "        \n",
    "#         ///\n",
    "        \n",
    "\n",
    "# f = pb\n",
    "# (1-f) = sb\n",
    "\n",
    "\n",
    "\n",
    "\n",
    "\n",
    "\n",
    "\n",
    "\n",
    "\n",
    "\n",
    "\n",
    "\n",
    "\n",
    "# activation function \n",
    "\n",
    "def sigmoid(x): \n",
    "\treturn(1/(1 + np.exp(-x))) \n",
    "\t\n",
    "# Creating the Feed forward neural network \n",
    "# 1 Input layer(1, 30) \n",
    "# 1 hidden layer (1, 5) \n",
    "# 1 output layer(3, 3) \n",
    "\n",
    "def f_forward(x, w1, w2): \n",
    "\t# hidden \n",
    "\tz1 = x.dot(w1)# input from layer 1  \n",
    "                                        # z1 = x.dot(w1) x = input, w1 = weights \n",
    "                                        # np.dot(x, w1) x=input, w1=weights, np.dot(self.input, self.weights1))\n",
    "\ta1 = sigmoid(z1)# out put of layer 2 \n",
    "\t\n",
    "    # a1 = sigmoid(x.dot(w1))\n",
    "\n",
    "    # Output layer \n",
    "\tz2 = a1.dot(w2)# input of out layer \n",
    "\ta2 = sigmoid(z2)# output of out layer \n",
    "\treturn(a2) \n",
    "\n",
    "# initializing the weights randomly \n",
    "def generate_wt(x, y): \n",
    "\tl =[] \n",
    "\tfor i in range(x * y): #for i in range (10): 1-- 9 values i generate \n",
    "\t\tl.append(np.random.randn()) \n",
    "\treturn(np.array(l).reshape(x, y)) \n",
    "\t\n",
    "# for loss we will be using mean square error(MSE) \n",
    "def loss(out, Y): \n",
    "\ts =(np.square(out-Y)) #difference\n",
    "\ts = np.sum(s)/len(y) # sum /12 total count\n",
    "\treturn(s) \n",
    "\t\n",
    "# Back propagation of error \n",
    "def back_prop(x, y, w1, w2, alpha): \n",
    "\t\n",
    "\t# hiden layer \n",
    "\tz1 = x.dot(w1)# input from layer 1 \n",
    "\ta1 = sigmoid(z1)# output of layer 2 \n",
    "\t\n",
    "\t# Output layer \n",
    "\tz2 = a1.dot(w2)# input of out layer \n",
    "\ta2 = sigmoid(z2)# output of out layer \n",
    "\t# error in output layer \n",
    "\td2 =(a2-y) \n",
    "\td1 = np.multiply((w2.dot((d2.transpose()))).transpose(), \n",
    "\t\t\t\t\t\t\t\t(np.multiply(a1, 1-a1))) \n",
    "\n",
    "\t# Gradient for w1 and w2 \n",
    "\tw1_adj = x.transpose().dot(d1) \n",
    "\tw2_adj = a1.transpose().dot(d2) \n",
    "\t\n",
    "\t# Updating parameters \n",
    "\tw1 = w1-(alpha*(w1_adj)) \n",
    "\tw2 = w2-(alpha*(w2_adj)) \n",
    "\t\n",
    "\treturn(w1, w2) \n",
    "\n",
    "def train(x, Y, w1, w2, alpha = 0.01, epoch = 10): \n",
    "\tacc =[] \n",
    "\tlosss =[] \n",
    "\tfor j in range(epoch): \n",
    "\t\tl =[] \n",
    "\t\tfor i in range(len(x)): \n",
    "\t\t\tout = f_forward(x[i], w1, w2) \n",
    "\t\t\tl.append((loss(out, Y[i]))) \n",
    "\t\t\tw1, w2 = back_prop(x[i], y[i], w1, w2, alpha) \n",
    "\t\tprint(\"epochs:\", j + 1, \"======== acc:\", (1-(sum(l)/len(x)))*100) \n",
    "\t\tacc.append((1-(sum(l)/len(x)))*100) \n",
    "\t\tlosss.append(sum(l)/len(x)) \n",
    "\treturn(acc, losss, w1, w2) \n",
    "\n",
    "def predict(x, w1, w2): \n",
    "\tOut = f_forward(x, w1, w2) \n",
    "\tmaxm = 0\n",
    "\tk = 0\n",
    "\tfor i in range(len(Out[0])): \n",
    "\t\tif(maxm<Out[0][i]): \n",
    "\t\t\tmaxm = Out[0][i] \n",
    "\t\t\tk = i \n",
    "\tif(k == 0): \n",
    "\t\tprint(\"Image is of letter A.\") \n",
    "\telif(k == 1): \n",
    "\t\tprint(\"Image is of letter B.\") \n",
    "\telse: \n",
    "\t\tprint(\"Image is of letter C.\") \n",
    "\tplt.imshow(x.reshape(5, 6)) \n",
    "\tplt.show()\t \n",
    "\t\n",
    "\n"
   ]
  },
  {
   "cell_type": "code",
   "execution_count": 14,
   "metadata": {},
   "outputs": [
    {
     "name": "stdout",
     "output_type": "stream",
     "text": [
      "[[ 0.9467874   0.26647242 -0.60438909 -0.09965787 -0.28165403]\n",
      " [ 1.00517288 -1.26830982  1.67094146  0.79587673 -1.84106643]\n",
      " [ 0.96871062  2.23576734  0.27769244  1.07689404 -0.66268137]\n",
      " [-1.50259143 -1.74042134  0.74146035 -1.20270119  0.27826613]\n",
      " [-0.3486999   1.03449371 -0.55117517  0.58352682  0.5540843 ]\n",
      " [ 0.70819534 -1.41172976 -0.75975881  0.12134845 -0.01746579]\n",
      " [-0.70554024  2.11178124  0.39103297 -1.39314616  2.14015254]\n",
      " [-1.61043389 -0.85103713  1.82924873 -0.065875   -0.72316848]\n",
      " [-1.82512856  0.95397441 -1.95035377 -0.77446551  0.07789541]\n",
      " [-0.62218043 -0.90330953 -1.04773902 -0.30154309  0.3792909 ]\n",
      " [-0.59798648 -2.07666525 -1.50741396  1.59005368 -0.0960407 ]\n",
      " [-1.52317996 -0.08303513  1.35392252 -0.29148284  0.8679234 ]\n",
      " [-1.05231592  1.44958242  1.58911474 -0.01792733 -1.44044614]\n",
      " [-0.79252239 -0.1967316   2.2328466   0.3844116  -0.07510742]\n",
      " [-0.38078793 -0.54886439  0.15300812 -0.44241819  1.46529436]\n",
      " [-0.12560825 -0.40773086 -2.0325195   0.39193953 -0.92686212]\n",
      " [ 0.45018062 -0.39159773  1.49891314 -0.96590479 -0.65585844]\n",
      " [ 0.27928312 -1.72704638  1.23415515 -1.7712502  -0.52540132]\n",
      " [-0.15493435  1.67212641  2.31552019 -0.74979025  2.03526379]\n",
      " [-0.39610457 -0.02328007  0.73298449 -0.39842075 -0.70238668]\n",
      " [-0.80086229  0.46698587  2.10377912  0.5925036   0.71778039]\n",
      " [ 1.19181022 -1.46216551  0.72029182  0.36106075  2.04104113]\n",
      " [ 0.73535582 -0.57576777 -0.36850134 -0.85975039  0.68441393]\n",
      " [-1.03000828  1.79947084  0.90061276 -0.06585062 -0.72010528]\n",
      " [-0.29206827  1.65793385  2.43438057 -0.09288     2.08512554]\n",
      " [ 3.29713173 -0.19512401  0.4772944  -1.19355027 -1.44125987]\n",
      " [-0.80599826 -0.03392254 -1.89462909  0.55542083 -0.66409145]\n",
      " [ 0.05684101  0.40747318  1.46318917 -0.41940046 -0.67949045]\n",
      " [-2.28786488 -0.85829963 -0.75117119  1.42904976  2.4104876 ]\n",
      " [ 0.96852869  0.25159449  0.28184025  0.19059076 -1.0321683 ]] \n",
      "\n",
      " [[ 0.18657277 -1.81584094  0.77928778]\n",
      " [ 0.67171682  1.20641318 -0.45734271]\n",
      " [ 1.56693297  0.70057875  0.31125392]\n",
      " [ 0.22373268 -0.36247236 -0.65697632]\n",
      " [ 2.16945663  1.19829363 -0.29860602]]\n"
     ]
    }
   ],
   "source": [
    "w1 = generate_wt(30, 5) \n",
    "w2 = generate_wt(5, 3) \n",
    "print(w1, \"\\n\\n\", w2)\n"
   ]
  },
  {
   "cell_type": "code",
   "execution_count": 15,
   "metadata": {},
   "outputs": [
    {
     "name": "stdout",
     "output_type": "stream",
     "text": [
      "epochs: 1 ======== acc: 60.28389421283373\n",
      "epochs: 2 ======== acc: 62.78395864453936\n",
      "epochs: 3 ======== acc: 65.16532455696607\n",
      "epochs: 4 ======== acc: 67.40079322142755\n",
      "epochs: 5 ======== acc: 69.44986138352958\n",
      "epochs: 6 ======== acc: 71.27587605902784\n",
      "epochs: 7 ======== acc: 72.85568819779765\n",
      "epochs: 8 ======== acc: 74.184117816479\n",
      "epochs: 9 ======== acc: 75.273778634877\n",
      "epochs: 10 ======== acc: 76.15111041914112\n",
      "epochs: 11 ======== acc: 76.85053715907902\n",
      "epochs: 12 ======== acc: 77.40873915874359\n",
      "epochs: 13 ======== acc: 77.86030405980647\n",
      "epochs: 14 ======== acc: 78.23518137449088\n",
      "epochs: 15 ======== acc: 78.55772946049103\n",
      "epochs: 16 ======== acc: 78.84682978348296\n",
      "epochs: 17 ======== acc: 79.1165305462629\n",
      "epochs: 18 ======== acc: 79.37683745083442\n",
      "epochs: 19 ======== acc: 79.63445456237868\n",
      "epochs: 20 ======== acc: 79.89341901308286\n",
      "epochs: 21 ======== acc: 80.15565299747576\n",
      "epochs: 22 ======== acc: 80.4214823686656\n",
      "epochs: 23 ======== acc: 80.69015518174051\n",
      "epochs: 24 ======== acc: 80.96035201218642\n",
      "epochs: 25 ======== acc: 81.2306376529739\n",
      "epochs: 26 ======== acc: 81.49978878895503\n",
      "epochs: 27 ======== acc: 81.766957582958\n",
      "epochs: 28 ======== acc: 82.03168177304647\n",
      "epochs: 29 ======== acc: 82.29379512117475\n",
      "epochs: 30 ======== acc: 82.5533045388816\n",
      "epochs: 31 ======== acc: 82.81028369544326\n",
      "epochs: 32 ======== acc: 83.06480542443897\n",
      "epochs: 33 ======== acc: 83.3169131292179\n",
      "epochs: 34 ======== acc: 83.56662051739225\n",
      "epochs: 35 ======== acc: 83.81392718153961\n",
      "epochs: 36 ======== acc: 84.05884023901122\n",
      "epochs: 37 ======== acc: 84.30139597586489\n",
      "epochs: 38 ======== acc: 84.5416785120612\n",
      "epochs: 39 ======== acc: 84.77983445466457\n",
      "epochs: 40 ======== acc: 85.01608344436988\n",
      "epochs: 41 ======== acc: 85.25072470465555\n",
      "epochs: 42 ======== acc: 85.48413943815241\n",
      "epochs: 43 ======== acc: 85.71678839551062\n",
      "epochs: 44 ======== acc: 85.94920335112536\n",
      "epochs: 45 ======== acc: 86.18197075502027\n",
      "epochs: 46 ======== acc: 86.41570575139224\n",
      "epochs: 47 ======== acc: 86.65101540704941\n",
      "epochs: 48 ======== acc: 86.88845175032026\n",
      "epochs: 49 ======== acc: 87.12845827695192\n",
      "epochs: 50 ======== acc: 87.37131756009998\n",
      "epochs: 51 ======== acc: 87.61711113634853\n",
      "epochs: 52 ======== acc: 87.86570355000015\n",
      "epochs: 53 ======== acc: 88.1167579748152\n",
      "epochs: 54 ======== acc: 88.36978103638177\n",
      "epochs: 55 ======== acc: 88.62418316759943\n",
      "epochs: 56 ======== acc: 88.87933474411702\n",
      "epochs: 57 ======== acc: 89.13460211006351\n",
      "epochs: 58 ======== acc: 89.38935949858488\n",
      "epochs: 59 ======== acc: 89.6429849961167\n",
      "epochs: 60 ======== acc: 89.89485381425388\n",
      "epochs: 61 ======== acc: 90.14433896098193\n",
      "epochs: 62 ======== acc: 90.39082222468724\n",
      "epochs: 63 ======== acc: 90.6337123684521\n",
      "epochs: 64 ======== acc: 90.87246503388727\n",
      "epochs: 65 ======== acc: 91.10659958519796\n",
      "epochs: 66 ======== acc: 91.33571025889918\n",
      "epochs: 67 ======== acc: 91.55947106754846\n",
      "epochs: 68 ======== acc: 91.7776352701118\n",
      "epochs: 69 ======== acc: 91.99003081868464\n",
      "epochs: 70 ======== acc: 92.1965532484488\n",
      "epochs: 71 ======== acc: 92.3971572542377\n",
      "epochs: 72 ======== acc: 92.59184788163809\n",
      "epochs: 73 ======== acc: 92.7806719583091\n",
      "epochs: 74 ======== acc: 92.96371014573018\n",
      "epochs: 75 ======== acc: 93.14106981114148\n",
      "epochs: 76 ======== acc: 93.31287879615338\n",
      "epochs: 77 ======== acc: 93.479280079567\n",
      "epochs: 78 ======== acc: 93.64042728492046\n",
      "epochs: 79 ======== acc: 93.79648095802156\n",
      "epochs: 80 ======== acc: 93.94760552870277\n",
      "epochs: 81 ======== acc: 94.09396686893088\n",
      "epochs: 82 ======== acc: 94.2357303626241\n",
      "epochs: 83 ======== acc: 94.37305940869953\n",
      "epochs: 84 ======== acc: 94.50611428647669\n",
      "epochs: 85 ======== acc: 94.63505132064121\n",
      "epochs: 86 ======== acc: 94.76002229095842\n",
      "epochs: 87 ======== acc: 94.88117403948453\n",
      "epochs: 88 ======== acc: 94.9986482349868\n",
      "epochs: 89 ======== acc: 95.11258126057243\n",
      "epochs: 90 ======== acc: 95.22310419612879\n",
      "epochs: 91 ======== acc: 95.33034287210917\n",
      "epochs: 92 ======== acc: 95.43441797549819\n",
      "epochs: 93 ======== acc: 95.53544519250397\n",
      "epochs: 94 ======== acc: 95.6335353757013\n",
      "epochs: 95 ======== acc: 95.72879472603938\n",
      "epochs: 96 ======== acc: 95.82132498237999\n",
      "epochs: 97 ======== acc: 95.91122361309282\n",
      "epochs: 98 ======== acc: 95.99858400575131\n",
      "epochs: 99 ======== acc: 96.0834956521864\n",
      "epochs: 100 ======== acc: 96.16604432710875\n"
     ]
    }
   ],
   "source": [
    "\"\"\"The arguments of train function are data set list x, \n",
    "correct labels y, weights w1, w2, learning rate = 0.1, \n",
    "no of epochs or iteration.The function will return the \n",
    "matrix of accuracy and loss and also the matrix of \n",
    "trained weights w1, w2\"\"\"\n",
    "\n",
    "acc, losss, w1, w2 = train(x, y, w1, w2, 0.1, 100)\n"
   ]
  },
  {
   "cell_type": "code",
   "execution_count": 16,
   "metadata": {},
   "outputs": [
    {
     "data": {
      "image/png": "[encoded data removed]",
      "text/plain": [
       "<Figure size 432x288 with 1 Axes>"
      ]
     },
     "metadata": {
      "needs_background": "light"
     },
     "output_type": "display_data"
    },
    {
     "data": {
      "image/png": "[encoded data removed]",
      "text/plain": [
       "<Figure size 432x288 with 1 Axes>"
      ]
     },
     "metadata": {
      "needs_background": "light"
     },
     "output_type": "display_data"
    }
   ],
   "source": [
    "import matplotlib.pyplot as plt1 \n",
    "\n",
    "# ploting accuraccy \n",
    "plt1.plot(acc) \n",
    "plt1.ylabel('Accuracy') \n",
    "plt1.xlabel(\"Epochs:\") \n",
    "plt1.show() \n",
    "\n",
    "# plotting Loss \n",
    "plt1.plot(losss) \n",
    "plt1.ylabel('Loss') \n",
    "plt1.xlabel(\"Epochs:\") \n",
    "plt1.show()\n"
   ]
  },
  {
   "cell_type": "code",
   "execution_count": 17,
   "metadata": {},
   "outputs": [
    {
     "name": "stdout",
     "output_type": "stream",
     "text": [
      "[[ 0.9467874   0.26647242 -0.60438909 -0.09965787 -0.28165403]\n",
      " [ 1.41680685 -1.54749192  1.60956058  1.00422016 -1.89213574]\n",
      " [ 1.40164797  2.20562383  0.21631893  1.13116593 -0.43940729]\n",
      " [-1.06965409 -1.77056486  0.68008685 -1.14842929  0.50154021]\n",
      " [ 0.06293407  0.75531161 -0.61255605  0.79187025  0.50301499]\n",
      " [ 0.70819534 -1.41172976 -0.75975881  0.12134845 -0.01746579]\n",
      " [-0.70554024  2.11178124  0.39103297 -1.39314616  2.14015254]\n",
      " [-1.17749655 -0.88118065  1.76787522 -0.01160311 -0.4998944 ]\n",
      " [-1.82512856  0.95397441 -1.95035377 -0.77446551  0.07789541]\n",
      " [-0.62218043 -0.90330953 -1.04773902 -0.30154309  0.3792909 ]\n",
      " [-1.59992461 -1.82756341 -1.56826352  1.64510562  0.32965192]\n",
      " [-1.52317996 -0.08303513  1.35392252 -0.29148284  0.8679234 ]\n",
      " [-1.03101255  1.698621    1.58912211 -0.17199886 -1.16610276]\n",
      " [-0.35958505 -0.22687511  2.17147309  0.43868349  0.14816666]\n",
      " [-1.38272607 -0.29976256  0.09215856 -0.38736625  1.89098698]\n",
      " [-1.12754638 -0.15862903 -2.09336906  0.44699147 -0.5011695 ]\n",
      " [-0.55175752 -0.14249589  1.43806358 -0.91085285 -0.23016582]\n",
      " [ 0.30058649 -1.4780078   1.23416253 -1.92532174 -0.25105793]\n",
      " [-0.13363098  1.92116499  2.31552756 -0.90386178  2.30960717]\n",
      " [ 0.0155294  -0.30246217  0.67160361 -0.19007733 -0.75345599]\n",
      " [-0.80086229  0.46698587  2.10377912  0.5925036   0.71778039]\n",
      " [ 1.19181022 -1.46216551  0.72029182  0.36106075  2.04104113]\n",
      " [-0.28788569 -0.57570451 -0.42935827 -0.65062691  0.83576317]\n",
      " [-1.00870491  2.04850942  0.90062014 -0.21992216 -0.4457619 ]\n",
      " [-0.2707649   1.90697243  2.43438794 -0.24695154  2.35946893]\n",
      " [ 3.7087657  -0.47430612  0.41591352 -0.98520684 -1.49232917]\n",
      " [-0.39436429 -0.31310464 -1.95600997  0.76376426 -0.71516075]\n",
      " [ 0.46847498  0.12829107  1.40180829 -0.21105703 -0.73055976]\n",
      " [-1.87623091 -1.13748173 -0.81255207  1.63739319  2.3594183 ]\n",
      " [ 0.98983206  0.50063308  0.28184763  0.03651922 -0.75782491]] \n",
      " [[-0.27483337 -2.41493943  2.09813135]\n",
      " [ 1.5576239  -1.57617509 -1.50830185]\n",
      " [-0.7379745  -0.32502802 -0.33289524]\n",
      " [-2.70707896  1.14565847 -0.32152323]\n",
      " [ 2.65433971 -0.1533213  -1.41239818]]\n"
     ]
    }
   ],
   "source": [
    "# the trained weigths are \n",
    "print(w1, \"\\n\", w2)\n"
   ]
  },
  {
   "cell_type": "code",
   "execution_count": 20,
   "metadata": {},
   "outputs": [
    {
     "name": "stdout",
     "output_type": "stream",
     "text": [
      "Image is of letter C.\n"
     ]
    },
    {
     "data": {
      "image/png": "[encoded data removed]",
      "text/plain": [
       "<Figure size 432x288 with 1 Axes>"
      ]
     },
     "metadata": {
      "needs_background": "light"
     },
     "output_type": "display_data"
    }
   ],
   "source": [
    "\"\"\" \n",
    "The predict function will take the following arguments: \n",
    "1) image matrix \n",
    "2) w1 trained weights \n",
    "3) w2 trained weights \n",
    "\"\"\"\n",
    "predict(x[2], w1, w2)\n"
   ]
  },
  {
   "cell_type": "code",
   "execution_count": null,
   "metadata": {},
   "outputs": [],
   "source": []
  }
 ],
 "metadata": {
  "kernelspec": {
   "display_name": "Python 3",
   "language": "python",
   "name": "python3"
  },
  "language_info": {
   "codemirror_mode": {
    "name": "ipython",
    "version": 3
   },
   "file_extension": ".py",
   "mimetype": "text/x-python",
   "name": "python",
   "nbconvert_exporter": "python",
   "pygments_lexer": "ipython3",
   "version": "3.7.6"
  }
 },
 "nbformat": 4,
 "nbformat_minor": 4
}
