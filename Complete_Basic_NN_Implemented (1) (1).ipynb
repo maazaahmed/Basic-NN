{
 "cells": [
  {
   "cell_type": "code",
   "execution_count": 32,
   "metadata": {
    "id": "eKSMhiiSk27u"
   },
   "outputs": [],
   "source": [
    "#1. Reproduce the complete workbook over colab and give screen shot of that before class end (3:15)\n",
    "#2. Try predicting \"D\"\n",
    "\n",
    "\n",
    "\n",
    "#Input Data\n",
    "# A \n",
    "a =[0, 0, 1, 1, 0, 0, \n",
    "0, 1, 0, 0, 1, 0, \n",
    "1, 1, 1, 1, 1, 1, \n",
    "1, 0, 0, 0, 0, 1, \n",
    "1, 0, 0, 0, 0, 1] \n",
    "# B \n",
    "b =[0, 1, 1, 1, 1, 0, \n",
    "0, 1, 0, 0, 1, 0, \n",
    "0, 1, 1, 1, 1, 0, \n",
    "0, 1, 0, 0, 1, 0, \n",
    "0, 1, 1, 1, 1, 0] \n",
    "# C \n",
    "c =[0, 1, 1, 1, 1, 0, \n",
    "    0, 1, 0, 0, 0, 0, \n",
    "    0, 1, 0, 0, 0, 0, \n",
    "    0, 1, 0, 0, 0, 0,  \n",
    "    0, 1, 1, 1, 1, 0] \n",
    "\n",
    "# d = [] 5 x 6\n",
    "d =[0, 1, 1, 1, 1, 0, \n",
    "    0, 1, 0, 0, 0, 1, \n",
    "    0, 1, 0, 0, 0, 1, \n",
    "    0, 1, 0, 0, 0, 1,  \n",
    "    0, 1, 1, 1, 1, 0] \n",
    "\n",
    "\n",
    "# Creating labels \n",
    "y =[[1, 0, 0], \n",
    "[0, 1, 0], \n",
    "[0, 0, 1]] \n"
   ]
  },
  {
   "cell_type": "code",
   "execution_count": 33,
   "metadata": {
    "colab": {
     "base_uri": "https://localhost:8080/",
     "height": 265
    },
    "id": "idJasd-hk27v",
    "outputId": "66fcc1ee-4712-495c-90fa-3d28b6598047"
   },
   "outputs": [
    {
     "data": {
      "image/png": "[encoded data removed]",
      "text/plain": [
       "<Figure size 432x288 with 1 Axes>"
      ]
     },
     "metadata": {
      "needs_background": "light",
      "tags": []
     },
     "output_type": "display_data"
    }
   ],
   "source": [
    "#Checking & Visualization\n",
    "import numpy as np \n",
    "import matplotlib.pyplot as plt \n",
    "# visualizing the data, ploting A. \n",
    "plt.imshow(np.array(a).reshape(5, 6)) \n",
    "plt.show() \n"
   ]
  },
  {
   "cell_type": "code",
   "execution_count": 34,
   "metadata": {
    "colab": {
     "base_uri": "https://localhost:8080/"
    },
    "id": "7H_n2Iknk27v",
    "outputId": "462b993a-cc30-4da7-f2ab-f4c9f1497746"
   },
   "outputs": [
    {
     "name": "stdout",
     "output_type": "stream",
     "text": [
      "[array([[0, 0, 1, 1, 0, 0, 0, 1, 0, 0, 1, 0, 1, 1, 1, 1, 1, 1, 1, 0, 0, 0,\n",
      "        0, 1, 1, 0, 0, 0, 0, 1]]), array([[0, 1, 1, 1, 1, 0, 0, 1, 0, 0, 1, 0, 0, 1, 1, 1, 1, 0, 0, 1, 0, 0,\n",
      "        1, 0, 0, 1, 1, 1, 1, 0]]), array([[0, 1, 1, 1, 1, 0, 0, 1, 0, 0, 0, 1, 0, 1, 0, 0, 0, 1, 0, 1, 0, 0,\n",
      "        0, 1, 0, 1, 1, 1, 1, 0]])] \n",
      "\n",
      " [[1 0 0]\n",
      " [0 1 0]\n",
      " [0 0 1]]\n"
     ]
    }
   ],
   "source": [
    "# converting data and labels into numpy array \n",
    "\n",
    "\"\"\" \n",
    "Convert the matrix of 0 and 1 into one hot vector \n",
    "so that we can directly feed it to the neural network, \n",
    "these vectors are then stored in a list x. \n",
    "\"\"\"\n",
    "\n",
    "x =[np.array(a).reshape(1, 30), np.array(b).reshape(1, 30), np.array(d).reshape(1, 30)] \n",
    "\n",
    "\n",
    "# Labels are also converted into NumPy array \n",
    "y = np.array(y) \n",
    "\n",
    "\n",
    "print(x, \"\\n\\n\", y)\n"
   ]
  },
  {
   "cell_type": "code",
   "execution_count": 35,
   "metadata": {
    "id": "72SRIbTGk27w"
   },
   "outputs": [],
   "source": [
    "\n",
    "\n",
    "\n",
    "# def testmycode:\n",
    "#     serial block of code:\n",
    "        \n",
    "        \n",
    "        \n",
    "        \n",
    "        \n",
    "#         ////\n",
    "#     parallel block of code:\n",
    "        \n",
    "        \n",
    "#         ///\n",
    "        \n",
    "\n",
    "# f = pb\n",
    "# (1-f) = sb\n",
    "\n",
    "\n",
    "\n",
    "\n",
    "\n",
    "\n",
    "\n",
    "\n",
    "\n",
    "\n",
    "\n",
    "\n",
    "\n",
    "# activation function \n",
    "\n",
    "def sigmoid(x): \n",
    "\treturn(1/(1 + np.exp(-x))) \n",
    "\t\n",
    "# Creating the Feed forward neural network \n",
    "# 1 Input layer(1, 30) \n",
    "# 1 hidden layer (1, 5) \n",
    "# 1 output layer(3, 3) \n",
    "\n",
    "def f_forward(x, w1, w2): \n",
    "\t# hidden \n",
    "\tz1 = x.dot(w1)# input from layer 1  \n",
    "                                        # z1 = x.dot(w1) x = input, w1 = weights \n",
    "                                        # np.dot(x, w1) x=input, w1=weights, np.dot(self.input, self.weights1))\n",
    "\ta1 = sigmoid(z1)# out put of layer 2 \n",
    "\t\n",
    "    # a1 = sigmoid(x.dot(w1))\n",
    "\n",
    "    # Output layer \n",
    "\tz2 = a1.dot(w2)# input of out layer \n",
    "\ta2 = sigmoid(z2)# output of out layer \n",
    "\treturn(a2) \n",
    "\n",
    "# initializing the weights randomly \n",
    "def generate_wt(x, y): \n",
    "\tl =[] \n",
    "\tfor i in range(x * y): #for i in range (10): 1-- 9 values i generate \n",
    "\t\tl.append(np.random.randn()) \n",
    "\treturn(np.array(l).reshape(x, y)) \n",
    "\t\n",
    "# for loss we will be using mean square error(MSE) \n",
    "def loss(out, Y): \n",
    "\ts =(np.square(out-Y)) #difference\n",
    "\ts = np.sum(s)/len(y) # sum /12 total count\n",
    "\treturn(s) \n",
    "\t\n",
    "# Back propagation of error \n",
    "def back_prop(x, y, w1, w2, alpha): \n",
    "\t\n",
    "\t# hiden layer \n",
    "\tz1 = x.dot(w1)# input from layer 1 \n",
    "\ta1 = sigmoid(z1)# output of layer 2 \n",
    "\t\n",
    "\t# Output layer \n",
    "\tz2 = a1.dot(w2)# input of out layer \n",
    "\ta2 = sigmoid(z2)# output of out layer \n",
    "\t# error in output layer \n",
    "\td2 =(a2-y) \n",
    "\td1 = np.multiply((w2.dot((d2.transpose()))).transpose(), \n",
    "\t\t\t\t\t\t\t\t(np.multiply(a1, 1-a1))) \n",
    "\n",
    "\t# Gradient for w1 and w2 \n",
    "\tw1_adj = x.transpose().dot(d1) \n",
    "\tw2_adj = a1.transpose().dot(d2) \n",
    "\t\n",
    "\t# Updating parameters \n",
    "\tw1 = w1-(alpha*(w1_adj)) \n",
    "\tw2 = w2-(alpha*(w2_adj)) \n",
    "\t\n",
    "\treturn(w1, w2) \n",
    "\n",
    "def train(x, Y, w1, w2, alpha = 0.01, epoch = 10): \n",
    "\tacc =[] \n",
    "\tlosss =[] \n",
    "\tfor j in range(epoch): \n",
    "\t\tl =[] \n",
    "\t\tfor i in range(len(x)): \n",
    "\t\t\tout = f_forward(x[i], w1, w2) \n",
    "\t\t\tl.append((loss(out, Y[i]))) \n",
    "\t\t\tw1, w2 = back_prop(x[i], y[i], w1, w2, alpha) \n",
    "\t\tprint(\"epochs:\", j + 1, \"======== acc:\", (1-(sum(l)/len(x)))*100) \n",
    "\t\tacc.append((1-(sum(l)/len(x)))*100) \n",
    "\t\tlosss.append(sum(l)/len(x)) \n",
    "\treturn(acc, losss, w1, w2) \n",
    "\n",
    "def predict(x, w1, w2): \n",
    "\tOut = f_forward(x, w1, w2) \n",
    "\tmaxm = 0\n",
    "\tk = 0\n",
    "\tfor i in range(len(Out[0])): \n",
    "\t\tif(maxm<Out[0][i]): \n",
    "\t\t\tmaxm = Out[0][i] \n",
    "\t\t\tk = i \n",
    "\tif(k == 0): \n",
    "\t\tprint(\"Image is of letter A.\") \n",
    "\telif(k == 1): \n",
    "\t\tprint(\"Image is of letter B.\") \n",
    "\telse: \n",
    "\t\tprint(\"Image is of letter C.\") \n",
    "\tplt.imshow(x.reshape(5, 6)) \n",
    "\tplt.show()\t \n",
    "\t\n",
    "\n"
   ]
  },
  {
   "cell_type": "code",
   "execution_count": 36,
   "metadata": {
    "colab": {
     "base_uri": "https://localhost:8080/"
    },
    "id": "40jNz7Sik27w",
    "outputId": "f4746ea6-2f1b-42b9-986e-94269196c11d"
   },
   "outputs": [
    {
     "name": "stdout",
     "output_type": "stream",
     "text": [
      "[[-0.71833312  0.99700246 -0.16416276 -0.31029553  0.15736284]\n",
      " [-1.06818549 -0.76355691  0.36217788 -1.22426146 -0.64099753]\n",
      " [ 1.28424682  1.29085096  0.16298641  0.5076552  -0.24416836]\n",
      " [-0.0924373   0.68980136 -0.18004428 -0.0164369  -0.22173551]\n",
      " [-0.0253359  -0.41098044 -1.42757716  0.46935014  2.16631617]\n",
      " [-0.13142206 -0.01766859  0.98037862  0.34012284  0.90884785]\n",
      " [ 0.67303671  0.72082066 -0.07017866 -0.75891867  0.44068957]\n",
      " [ 1.03047602  1.28787456  1.04058229  1.4073015   0.0318249 ]\n",
      " [-0.67094913  0.05744504 -0.55692811  0.7371808  -2.15602314]\n",
      " [ 1.22345021 -0.04554701 -0.11038902 -0.58662028 -0.46067156]\n",
      " [-0.78900155  0.75877827 -0.646167   -1.78660724 -0.4068634 ]\n",
      " [ 1.49766988 -1.59274095  1.20070729  0.6183296  -0.71180858]\n",
      " [ 1.87465676 -0.23285958 -0.86400974  0.69832175  0.03526254]\n",
      " [ 1.16340951  0.55002073 -1.50654884 -0.67561631 -0.83478339]\n",
      " [ 0.22089357 -0.76176359  0.24830693  0.7663118  -1.32463728]\n",
      " [ 0.86990764 -0.32129463  0.38706709 -1.25790495 -1.60011393]\n",
      " [ 0.72905202  1.37669473 -0.35929161 -0.94383431 -0.27209825]\n",
      " [-1.10544994 -0.07806776 -1.8007534  -0.87965999  1.68618471]\n",
      " [-0.92318389  0.31041522 -0.23655375 -1.36707087 -0.28860811]\n",
      " [-0.59237016 -0.57052215  1.73559203  0.0577531  -0.77018896]\n",
      " [ 0.56057594 -1.04043494  0.91229395  0.32009997  0.26410322]\n",
      " [ 0.67283285 -2.0506861   1.36247322 -1.17593741  0.28846256]\n",
      " [-0.6238005   0.98918333 -0.3461045   0.1028672   0.19869436]\n",
      " [ 0.13883183  0.81544227  0.28676285 -0.6589253  -0.89512745]\n",
      " [ 1.63921543 -0.21886521 -1.36315458 -1.23998027 -0.82365765]\n",
      " [-0.64590662 -0.10074516 -1.12904059  0.25950428 -0.86356821]\n",
      " [-0.29618917 -1.59552354 -0.9272576  -1.9829447  -0.77253164]\n",
      " [-0.04147005  1.28112277  0.9032355  -1.44168237  1.36653312]\n",
      " [-0.99765567  0.12482232 -0.6129586  -1.69446766 -1.55385991]\n",
      " [-1.58500205  1.97154697 -0.43905828 -1.76984987  0.14444163]] \n",
      "\n",
      " [[ 0.14132134 -0.07092606 -1.42414707]\n",
      " [-0.0234864  -0.85309078 -0.57765531]\n",
      " [ 0.55635326 -0.1747423  -0.32557941]\n",
      " [ 0.37496053  0.95980907 -1.48053345]\n",
      " [-0.22727024 -1.5518141   0.07148907]]\n"
     ]
    }
   ],
   "source": [
    "w1 = generate_wt(30, 5) \n",
    "w2 = generate_wt(5, 3) \n",
    "print(w1, \"\\n\\n\", w2)\n"
   ]
  },
  {
   "cell_type": "code",
   "execution_count": 37,
   "metadata": {
    "colab": {
     "base_uri": "https://localhost:8080/"
    },
    "id": "DCVzkVc6k27w",
    "outputId": "fc2f8296-cd00-4fc1-9cb6-79b7496166de"
   },
   "outputs": [
    {
     "name": "stdout",
     "output_type": "stream",
     "text": [
      "epochs: 1 ======== acc: 75.93221251994139\n",
      "epochs: 2 ======== acc: 76.57843142223471\n",
      "epochs: 3 ======== acc: 77.14688066311189\n",
      "epochs: 4 ======== acc: 77.63172511126866\n",
      "epochs: 5 ======== acc: 78.04481173583349\n",
      "epochs: 6 ======== acc: 78.40684812858242\n",
      "epochs: 7 ======== acc: 78.73736287724444\n",
      "epochs: 8 ======== acc: 79.05145411916504\n",
      "epochs: 9 ======== acc: 79.36029453844849\n",
      "epochs: 10 ======== acc: 79.67237614294166\n",
      "epochs: 11 ======== acc: 79.99441460189526\n",
      "epochs: 12 ======== acc: 80.33169102313765\n",
      "epochs: 13 ======== acc: 80.68783861397101\n",
      "epochs: 14 ======== acc: 81.0642085951967\n",
      "epochs: 15 ======== acc: 81.45918032859967\n",
      "epochs: 16 ======== acc: 81.8680236977454\n",
      "epochs: 17 ======== acc: 82.28380878404616\n",
      "epochs: 18 ======== acc: 82.69917305561498\n",
      "epochs: 19 ======== acc: 83.10804156746549\n",
      "epochs: 20 ======== acc: 83.50647671254482\n",
      "epochs: 21 ======== acc: 83.89258041490635\n",
      "epochs: 22 ======== acc: 84.26591062929984\n",
      "epochs: 23 ======== acc: 84.62686101972282\n",
      "epochs: 24 ======== acc: 84.97620390004744\n",
      "epochs: 25 ======== acc: 85.31481403966573\n",
      "epochs: 26 ======== acc: 85.64352544428684\n",
      "epochs: 27 ======== acc: 85.96307010871877\n",
      "epochs: 28 ======== acc: 86.27406209401579\n",
      "epochs: 29 ======== acc: 86.57700418465977\n",
      "epochs: 30 ======== acc: 86.87230404426546\n",
      "epochs: 31 ======== acc: 87.1602927927975\n",
      "epochs: 32 ======== acc: 87.4412424821085\n",
      "epochs: 33 ======== acc: 87.71538097842453\n",
      "epochs: 34 ======== acc: 87.982903869799\n",
      "epochs: 35 ======== acc: 88.24398357580168\n",
      "epochs: 36 ======== acc: 88.49877607650676\n",
      "epochs: 37 ======== acc: 88.74742574081289\n",
      "epochs: 38 ======== acc: 88.99006870699739\n",
      "epochs: 39 ======== acc: 89.22683520212992\n",
      "epochs: 40 ======== acc: 89.4578511098969\n",
      "epochs: 41 ======== acc: 89.68323902300192\n",
      "epochs: 42 ======== acc: 89.90311895295991\n",
      "epochs: 43 ======== acc: 90.11760881867055\n",
      "epochs: 44 ======== acc: 90.32682479524613\n",
      "epochs: 45 ======== acc: 90.53088157480508\n",
      "epochs: 46 ======== acc: 90.72989256964323\n",
      "epochs: 47 ======== acc: 90.92397007370512\n",
      "epochs: 48 ======== acc: 91.11322538910312\n",
      "epochs: 49 ======== acc: 91.29776891927322\n",
      "epochs: 50 ======== acc: 91.47771022810758\n",
      "epochs: 51 ======== acc: 91.65315806413757\n",
      "epochs: 52 ======== acc: 91.82422034979086\n",
      "epochs: 53 ======== acc: 91.99100413729995\n",
      "epochs: 54 ======== acc: 92.15361553453178\n",
      "epochs: 55 ======== acc: 92.31215960550865\n",
      "epochs: 56 ======== acc: 92.46674025149417\n",
      "epochs: 57 ======== acc: 92.61746007912906\n",
      "epochs: 58 ======== acc: 92.76442026220867\n",
      "epochs: 59 ======== acc: 92.90772040335219\n",
      "epochs: 60 ======== acc: 93.0474584011147\n",
      "epochs: 61 ======== acc: 93.18373032715222\n",
      "epochs: 62 ======== acc: 93.31663031697785\n",
      "epochs: 63 ======== acc: 93.44625047674802\n",
      "epochs: 64 ======== acc: 93.57268080747396\n",
      "epochs: 65 ======== acc: 93.696009147124\n",
      "epochs: 66 ======== acc: 93.81632113030453\n",
      "epochs: 67 ======== acc: 93.9337001645979\n",
      "epochs: 68 ======== acc: 94.04822742219378\n",
      "epochs: 69 ======== acc: 94.15998184516411\n",
      "epochs: 70 ======== acc: 94.2690401625817\n",
      "epochs: 71 ======== acc: 94.37547691764307\n",
      "epochs: 72 ======== acc: 94.47936450300422\n",
      "epochs: 73 ======== acc: 94.58077320264837\n",
      "epochs: 74 ======== acc: 94.67977123875603\n",
      "epochs: 75 ======== acc: 94.77642482222359\n",
      "epochs: 76 ======== acc: 94.87079820566038\n",
      "epochs: 77 ======== acc: 94.9629537378771\n",
      "epochs: 78 ======== acc: 95.05295191905131\n",
      "epochs: 79 ======== acc: 95.14085145591416\n",
      "epochs: 80 ======== acc: 95.2267093164437\n",
      "epochs: 81 ======== acc: 95.31058078367248\n",
      "epochs: 82 ======== acc: 95.39251950832107\n",
      "epochs: 83 ======== acc: 95.47257756005575\n",
      "epochs: 84 ======== acc: 95.55080547723863\n",
      "epochs: 85 ======== acc: 95.62725231509461\n",
      "epochs: 86 ======== acc: 95.7019656922632\n",
      "epochs: 87 ======== acc: 95.77499183573605\n",
      "epochs: 88 ======== acc: 95.8463756242054\n",
      "epochs: 89 ======== acc: 95.91616062986577\n",
      "epochs: 90 ======== acc: 95.98438915872264\n",
      "epochs: 91 ======== acc: 96.05110228946828\n",
      "epochs: 92 ======== acc: 96.11633991098923\n",
      "epochs: 93 ======== acc: 96.1801407585697\n",
      "epochs: 94 ======== acc: 96.24254244885537\n",
      "epochs: 95 ======== acc: 96.30358151363842\n",
      "epochs: 96 ======== acc: 96.36329343252308\n",
      "epochs: 97 ======== acc: 96.42171266452604\n",
      "epochs: 98 ======== acc: 96.47887267866298\n",
      "epochs: 99 ======== acc: 96.53480598356848\n",
      "epochs: 100 ======== acc: 96.58954415619259\n"
     ]
    }
   ],
   "source": [
    "\"\"\"The arguments of train function are data set list x, \n",
    "correct labels y, weights w1, w2, learning rate = 0.1, \n",
    "no of epochs or iteration.The function will return the \n",
    "matrix of accuracy and loss and also the matrix of \n",
    "trained weights w1, w2\"\"\"\n",
    "\n",
    "acc, losss, w1, w2 = train(x, y, w1, w2, 0.1, 100)\n"
   ]
  },
  {
   "cell_type": "code",
   "execution_count": 38,
   "metadata": {
    "colab": {
     "base_uri": "https://localhost:8080/",
     "height": 544
    },
    "id": "8eNarf6Ek27w",
    "outputId": "8c995b77-ef82-4c71-aa90-4e3bf9c26a0b"
   },
   "outputs": [
    {
     "data": {
      "image/png": "[encoded data removed]",
      "text/plain": [
       "<Figure size 432x288 with 1 Axes>"
      ]
     },
     "metadata": {
      "needs_background": "light",
      "tags": []
     },
     "output_type": "display_data"
    },
    {
     "data": {
      "image/png": "[encoded data removed]",
      "text/plain": [
       "<Figure size 432x288 with 1 Axes>"
      ]
     },
     "metadata": {
      "needs_background": "light",
      "tags": []
     },
     "output_type": "display_data"
    }
   ],
   "source": [
    "import matplotlib.pyplot as plt1 \n",
    "\n",
    "# ploting accuraccy \n",
    "plt1.plot(acc) \n",
    "plt1.ylabel('Accuracy') \n",
    "plt1.xlabel(\"Epochs:\") \n",
    "plt1.show() \n",
    "\n",
    "# plotting Loss \n",
    "plt1.plot(losss) \n",
    "plt1.ylabel('Loss') \n",
    "plt1.xlabel(\"Epochs:\") \n",
    "plt1.show()\n"
   ]
  },
  {
   "cell_type": "code",
   "execution_count": 39,
   "metadata": {
    "colab": {
     "base_uri": "https://localhost:8080/"
    },
    "id": "rKdrXwv6k27w",
    "outputId": "a8006818-5b60-4324-b8f8-5d0cea3f8517"
   },
   "outputs": [
    {
     "name": "stdout",
     "output_type": "stream",
     "text": [
      "[[-7.18333116e-01  9.97002460e-01 -1.64162756e-01 -3.10295525e-01\n",
      "   1.57362837e-01]\n",
      " [-1.55775673e+00 -8.88874933e-01  2.25227333e-01 -1.25248657e+00\n",
      "  -3.15202226e-01]\n",
      " [ 9.93633824e-01  1.16392281e+00  3.16890562e-02  4.79330595e-01\n",
      "   1.18245458e-01]\n",
      " [-3.83050296e-01  5.62873213e-01 -3.11341638e-01 -4.47615041e-02\n",
      "   1.40678308e-01]\n",
      " [-5.14907144e-01 -5.36298464e-01 -1.56452771e+00  4.41125030e-01\n",
      "   2.49211147e+00]\n",
      " [-1.31422057e-01 -1.76685945e-02  9.80378616e-01  3.40122841e-01\n",
      "   9.08847854e-01]\n",
      " [ 6.73036706e-01  7.20820656e-01 -7.01786562e-02 -7.58918666e-01\n",
      "   4.40689566e-01]\n",
      " [ 7.39863020e-01  1.16094642e+00  9.09284941e-01  1.37897689e+00\n",
      "   3.94238719e-01]\n",
      " [-6.70949134e-01  5.74450359e-02 -5.56928110e-01  7.37180803e-01\n",
      "  -2.15602314e+00]\n",
      " [ 1.22345021e+00 -4.55470107e-02 -1.10389015e-01 -5.86620281e-01\n",
      "  -4.60671558e-01]\n",
      " [-7.13056543e-01  9.36730101e-01 -6.89993393e-01 -1.78310859e+00\n",
      "  -7.06640693e-01]\n",
      " [ 1.13111188e+00 -1.89762093e+00  1.11323633e+00  5.86506348e-01\n",
      "  -4.96174695e-02]\n",
      " [ 2.07361501e+00 -2.34469698e-01 -8.58356543e-01  6.98222256e-01\n",
      "   7.18810523e-02]\n",
      " [ 8.72796511e-01  4.23092587e-01 -1.63784620e+00 -7.03940917e-01\n",
      "  -4.72369565e-01]\n",
      " [ 2.96838575e-01 -5.83811752e-01  2.04480543e-01  7.69810447e-01\n",
      "  -1.62441457e+00]\n",
      " [ 9.45852644e-01 -1.43342795e-01  3.43240702e-01 -1.25440630e+00\n",
      "  -1.89989122e+00]\n",
      " [ 8.04997019e-01  1.55464657e+00 -4.03117999e-01 -9.40335665e-01\n",
      "  -5.71875545e-01]\n",
      " [-1.27304969e+00 -3.84557860e-01 -1.88257117e+00 -9.11582741e-01\n",
      "   2.38499434e+00]\n",
      " [-7.24225638e-01  3.08805097e-01 -2.30900559e-01 -1.36717037e+00\n",
      "  -2.51989596e-01]\n",
      " [-1.08194141e+00 -6.95840173e-01  1.59864148e+00  2.95279881e-02\n",
      "  -4.44393653e-01]\n",
      " [ 5.60575940e-01 -1.04043494e+00  9.12293954e-01  3.20099971e-01\n",
      "   2.64103217e-01]\n",
      " [ 6.72832850e-01 -2.05068610e+00  1.36247322e+00 -1.17593741e+00\n",
      "   2.88462558e-01]\n",
      " [-7.46813745e-01  1.16874529e+00 -3.95584085e-01  1.06465344e-01\n",
      "  -1.37701455e-01]\n",
      " [-2.87679226e-02  5.08952167e-01  2.04945080e-01 -6.90848057e-01\n",
      "  -1.96317824e-01]\n",
      " [ 1.83817368e+00 -2.20475329e-01 -1.35750139e+00 -1.24007977e+00\n",
      "  -7.87039130e-01]\n",
      " [-1.13547787e+00 -2.26063187e-01 -1.26599114e+00  2.31279171e-01\n",
      "  -5.37772911e-01]\n",
      " [-7.85760414e-01 -1.72084156e+00 -1.06420815e+00 -2.01116981e+00\n",
      "  -4.46736342e-01]\n",
      " [-5.31041298e-01  1.15580475e+00  7.66284947e-01 -1.46990748e+00\n",
      "   1.69232842e+00]\n",
      " [-1.48722692e+00 -4.95706515e-04 -7.49909148e-01 -1.72269277e+00\n",
      "  -1.22806461e+00]\n",
      " [-1.38604380e+00  1.96993685e+00 -4.33405085e-01 -1.76994937e+00\n",
      "   1.81060143e-01]] \n",
      " [[ 2.8398079  -2.18349066 -2.03039866]\n",
      " [-1.216805    0.82197877 -1.86829262]\n",
      " [ 0.3299712  -0.09371693 -0.22396722]\n",
      " [ 0.36533295  0.9540613  -1.46737624]\n",
      " [-1.88587868 -2.53584409  2.35494189]]\n"
     ]
    }
   ],
   "source": [
    "# the trained weigths are \n",
    "print(w1, \"\\n\", w2)\n"
   ]
  },
  {
   "cell_type": "code",
   "execution_count": 40,
   "metadata": {
    "colab": {
     "base_uri": "https://localhost:8080/",
     "height": 282
    },
    "id": "D_EgSzwbk27w",
    "outputId": "0c1fe543-3154-4867-bee7-483ef4485ee2"
   },
   "outputs": [
    {
     "name": "stdout",
     "output_type": "stream",
     "text": [
      "Image is of letter C.\n"
     ]
    },
    {
     "data": {
      "image/png": "[encoded data removed]",
      "text/plain": [
       "<Figure size 432x288 with 1 Axes>"
      ]
     },
     "metadata": {
      "needs_background": "light",
      "tags": []
     },
     "output_type": "display_data"
    }
   ],
   "source": [
    "\"\"\" \n",
    "The predict function will take the following arguments: \n",
    "1) image matrix \n",
    "2) w1 trained weights \n",
    "3) w2 trained weights \n",
    "\"\"\"\n",
    "predict(x[2], w1, w2)\n"
   ]
  },
  {
   "cell_type": "code",
   "execution_count": 40,
   "metadata": {
    "id": "Dpjt47OVk27w"
   },
   "outputs": [],
   "source": []
  }
 ],
 "metadata": {
  "colab": {
   "name": "Complete Basic NN Implemented.ipynb",
   "provenance": []
  },
  "kernelspec": {
   "display_name": "Python 3",
   "language": "python",
   "name": "python3"
  },
  "language_info": {
   "codemirror_mode": {
    "name": "ipython",
    "version": 3
   },
   "file_extension": ".py",
   "mimetype": "text/x-python",
   "name": "python",
   "nbconvert_exporter": "python",
   "pygments_lexer": "ipython3",
   "version": "3.7.6"
  }
 },
 "nbformat": 4,
 "nbformat_minor": 1
}
